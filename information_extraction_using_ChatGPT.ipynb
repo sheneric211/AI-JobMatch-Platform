{
 "cells": [
  {
   "cell_type": "markdown",
   "metadata": {},
   "source": [
    "# Libraries"
   ]
  },
  {
   "cell_type": "code",
   "execution_count": 36,
   "metadata": {},
   "outputs": [],
   "source": [
    "from pdf2image import convert_from_path\n",
    "import pytesseract\n",
    "from openai import OpenAI\n",
    "import ast"
   ]
  },
  {
   "cell_type": "markdown",
   "metadata": {},
   "source": [
    "# Text Extraction"
   ]
  },
  {
   "cell_type": "code",
   "execution_count": 37,
   "metadata": {},
   "outputs": [],
   "source": [
    "# Convert PDF to list of images\n",
    "pages = convert_from_path('./sample_cv.pdf', 300)\n",
    "\n",
    "# Loop through each page\n",
    "for page_num, page_image in enumerate(pages):\n",
    "    # Use pytesseract to extract text from the image\n",
    "    text = pytesseract.image_to_string(page_image)\n",
    "    \n",
    "    # Print the extracted text\n",
    "    # print(f\"Page {page_num + 1} Text:\\n{text}\\n\\n---\\n\")"
   ]
  },
  {
   "cell_type": "markdown",
   "metadata": {},
   "source": [
    "# Using ChatGPT to Extract Information"
   ]
  },
  {
   "cell_type": "code",
   "execution_count": 38,
   "metadata": {},
   "outputs": [
    {
     "data": {
      "text/plain": [
       "{'name': 'Eren', 'surname': 'Bardak', 'city': 'San Francisco', 'state': 'CA'}"
      ]
     },
     "execution_count": 38,
     "metadata": {},
     "output_type": "execute_result"
    }
   ],
   "source": [
    "file_openai_key = \"./.env\"\n",
    "key = open(file_openai_key, \"r\").read().strip()\n",
    "\n",
    "client = OpenAI(api_key=key)\n",
    "\n",
    "def get_chat_completion(prompt):\n",
    "    response = client.chat.completions.create(\n",
    "        model=\"gpt-3.5-turbo\",\n",
    "        temperature=0,\n",
    "        max_tokens=50,\n",
    "\n",
    "        messages=[{\"role\": \"user\", \"content\": prompt}]\n",
    "    )\n",
    "    return response.choices[0].message.content\n",
    "\n",
    "prompt = f\"\"\"\n",
    "You will be provided with text extracted from a resume. \n",
    "Extract the name, surname, city, state as a dictionary from the text.\n",
    "Ensure the output does not include newline characters or other unnecessary formatting. Text:\n",
    "\\\"\\\"\\\"{text}\\\"\\\"\\\"\n",
    "\"\"\"\n",
    "\n",
    "output = get_chat_completion(prompt)\n",
    "\n",
    "# Convert string to dictionary\n",
    "actual_dict = ast.literal_eval(output)\n",
    "\n",
    "actual_dict"
   ]
  }
 ],
 "metadata": {
  "kernelspec": {
   "display_name": "base",
   "language": "python",
   "name": "python3"
  },
  "language_info": {
   "codemirror_mode": {
    "name": "ipython",
    "version": 3
   },
   "file_extension": ".py",
   "mimetype": "text/x-python",
   "name": "python",
   "nbconvert_exporter": "python",
   "pygments_lexer": "ipython3",
   "version": "3.11.0"
  }
 },
 "nbformat": 4,
 "nbformat_minor": 2
}
